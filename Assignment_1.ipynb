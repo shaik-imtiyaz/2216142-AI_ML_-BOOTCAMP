{
  "nbformat": 4,
  "nbformat_minor": 0,
  "metadata": {
    "colab": {
      "name": "Assignment-1.ipynb",
      "provenance": [],
      "authorship_tag": "ABX9TyNbvLLFczhH+ZEhWNT/unwT",
      "include_colab_link": true
    },
    "kernelspec": {
      "name": "python3",
      "display_name": "Python 3"
    },
    "language_info": {
      "name": "python"
    }
  },
  "cells": [
    {
      "cell_type": "markdown",
      "metadata": {
        "id": "view-in-github",
        "colab_type": "text"
      },
      "source": [
        "<a href=\"https://colab.research.google.com/github/shaik-imtiyaz/2216142-AI_ML_-BOOTCAMP/blob/main/Assignment_1.ipynb\" target=\"_parent\"><img src=\"https://colab.research.google.com/assets/colab-badge.svg\" alt=\"Open In Colab\"/></a>"
      ]
    },
    {
      "cell_type": "markdown",
      "source": [
        "1. Implement the methods of String with examples"
      ],
      "metadata": {
        "id": "JL2j1tVHsKBZ"
      }
    },
    {
      "cell_type": "code",
      "source": [
        "s='google'\n",
        "#indexing\n",
        "print(s[-1])\n",
        "print(s[2])\n",
        "#slicing \n",
        "print(s[:])\n",
        "#strip()\n",
        "s1='  SHAIK IMTIYAZ  '\n",
        "print(s1.strip())\n",
        "print(s1.lstrip()) #left strip\n",
        "print(s1.rstrip()) #right strip\n",
        "s2='gradSTeLlar pYtHoN'\n",
        "print(s2.upper()) \n",
        "print(s2.lower())\n",
        "print(s2.capitalize()) \n",
        "print(s2.swapcase())\n",
        "print(s2.title())"
      ],
      "metadata": {
        "colab": {
          "base_uri": "https://localhost:8080/"
        },
        "id": "ikV7eVh8sLGo",
        "outputId": "9fe2f3d9-c4e9-496a-8428-04a26f563016"
      },
      "execution_count": 40,
      "outputs": [
        {
          "output_type": "stream",
          "name": "stdout",
          "text": [
            "e\n",
            "o\n",
            "google\n",
            "SHAIK IMTIYAZ\n",
            "SHAIK IMTIYAZ  \n",
            "  SHAIK IMTIYAZ\n",
            "GRADSTELLAR PYTHON\n",
            "gradstellar python\n",
            "Gradstellar python\n",
            "GRADstElLAR PyThOn\n",
            "Gradstellar Python\n"
          ]
        }
      ]
    },
    {
      "cell_type": "markdown",
      "source": [
        "2. Implement the methods of List with examples."
      ],
      "metadata": {
        "id": "VUCpg38stEtB"
      }
    },
    {
      "cell_type": "code",
      "source": [
        "l=[1,5,3,2]\n",
        "print(l)\n",
        "print(len(l))\n",
        "l.append('python')\n",
        "print(l)\n",
        "l.extend([4,6,7])\n",
        "print(l)\n",
        "l.insert(4,5)\n",
        "print(l)\n",
        "l.pop(5)\n",
        "print(l)\n",
        "l.remove(7)\n",
        "print(l)\n",
        "l.reverse()\n",
        "print(l)\n",
        "l.sort()\n",
        "print(l)\n",
        "l.clear()\n",
        "print(l)"
      ],
      "metadata": {
        "colab": {
          "base_uri": "https://localhost:8080/"
        },
        "id": "_OzyZP8dtQWZ",
        "outputId": "4ca6ded4-f8e3-43bb-b587-4834ffb3ec6b"
      },
      "execution_count": 39,
      "outputs": [
        {
          "output_type": "stream",
          "name": "stdout",
          "text": [
            "[1, 5, 3, 2]\n",
            "4\n",
            "[1, 5, 3, 2, 'python']\n",
            "[1, 5, 3, 2, 'python', 4, 6, 7]\n",
            "[1, 5, 3, 2, 5, 'python', 4, 6, 7]\n",
            "[1, 5, 3, 2, 5, 4, 6, 7]\n",
            "[1, 5, 3, 2, 5, 4, 6]\n",
            "[6, 4, 5, 2, 3, 5, 1]\n",
            "[1, 2, 3, 4, 5, 5, 6]\n",
            "[]\n"
          ]
        }
      ]
    },
    {
      "cell_type": "markdown",
      "source": [
        "3. Implement the methods of Tuple with examples."
      ],
      "metadata": {
        "id": "pvOAkCvktzOJ"
      }
    },
    {
      "cell_type": "code",
      "source": [
        "t=('shaik','imtiyaz','python',96,11)\n",
        "print(t)\n",
        "print(len(t))\n",
        "t1=(5,6,7,96,50,50)\n",
        "#indexing\n",
        "print(t1[0])\n",
        "print(t1[-1])\n",
        "#slicing \n",
        "print(t1[1:3])\n",
        "print(max(t1))\n",
        "print(min(t1))\n",
        "print(t1.index(96))\n",
        "print(t1.count(50))"
      ],
      "metadata": {
        "colab": {
          "base_uri": "https://localhost:8080/"
        },
        "id": "Y0UdpU9ht0No",
        "outputId": "2feb64c6-2246-4885-f0a8-9bc21e605904"
      },
      "execution_count": 38,
      "outputs": [
        {
          "output_type": "stream",
          "name": "stdout",
          "text": [
            "('shaik', 'imtiyaz', 'python', 96, 11)\n",
            "5\n",
            "5\n",
            "50\n",
            "(6, 7)\n",
            "96\n",
            "5\n",
            "3\n",
            "2\n"
          ]
        }
      ]
    },
    {
      "cell_type": "markdown",
      "source": [
        "4. Implement the methods of Dictionary with examples"
      ],
      "metadata": {
        "id": "9tSndetEubj5"
      }
    },
    {
      "cell_type": "code",
      "source": [
        "d={1:100,2:200,3:300,4:86,5:205,'name':'shaik','roll':96,'address':'hnk'}\n",
        "print(d)\n",
        "print(d.items())\n",
        "print(d.popitem())\n",
        "print(d.keys())\n",
        "print(d.values())\n",
        "print(d.get('name'))"
      ],
      "metadata": {
        "colab": {
          "base_uri": "https://localhost:8080/"
        },
        "id": "OlTJFWYIuhFo",
        "outputId": "918eeaa5-5b89-4a50-a19c-731b50b533cb"
      },
      "execution_count": 37,
      "outputs": [
        {
          "output_type": "stream",
          "name": "stdout",
          "text": [
            "{1: 100, 2: 200, 3: 300, 4: 86, 5: 205, 'name': 'shaik', 'roll': 96, 'address': 'hnk'}\n",
            "dict_items([(1, 100), (2, 200), (3, 300), (4, 86), (5, 205), ('name', 'shaik'), ('roll', 96), ('address', 'hnk')])\n",
            "('address', 'hnk')\n",
            "dict_keys([1, 2, 3, 4, 5, 'name', 'roll'])\n",
            "dict_values([100, 200, 300, 86, 205, 'shaik', 96])\n",
            "shaik\n"
          ]
        }
      ]
    },
    {
      "cell_type": "markdown",
      "source": [
        "5. Implement the methods of Set with examples."
      ],
      "metadata": {
        "id": "qbqcilYK8hbr"
      }
    },
    {
      "cell_type": "code",
      "source": [
        "s={1,2,3,4}\n",
        "s.add(6)\n",
        "print(s)\n",
        "s.update([5,6,7])\n",
        "print(s)\n",
        "s.remove(4)\n",
        "print(s)\n",
        "s.discard(4)\n",
        "print(s)\n",
        "s1={3,5,0,2,9,1}\n",
        "#union\n",
        "print(s|s1)\n",
        "print(s.union(s1))\n",
        "print(s1.union(s))\n",
        "#intersection\n",
        "print(s&s1)\n",
        "print(s.intersection(s1))\n",
        "print(s1.intersection(s))\n",
        "#difference\n",
        "print(s-s1)\n",
        "print(s.difference(s1))"
      ],
      "metadata": {
        "colab": {
          "base_uri": "https://localhost:8080/"
        },
        "id": "hSMbPuXf8iUy",
        "outputId": "a579e78c-5e3d-4f64-a937-7013850e508d"
      },
      "execution_count": 36,
      "outputs": [
        {
          "output_type": "stream",
          "name": "stdout",
          "text": [
            "{1, 2, 3, 4, 6}\n",
            "{1, 2, 3, 4, 5, 6, 7}\n",
            "{1, 2, 3, 5, 6, 7}\n",
            "{1, 2, 3, 5, 6, 7}\n",
            "{0, 1, 2, 3, 5, 6, 7, 9}\n",
            "{0, 1, 2, 3, 5, 6, 7, 9}\n",
            "{0, 1, 2, 3, 5, 6, 7, 9}\n",
            "{1, 2, 3, 5}\n",
            "{1, 2, 3, 5}\n",
            "{1, 2, 3, 5}\n",
            "{6, 7}\n",
            "{6, 7}\n"
          ]
        }
      ]
    },
    {
      "cell_type": "markdown",
      "source": [
        "6. Write a python program to convert Decimal to Binary, Octal and Hexadecimal with \n",
        "direct method."
      ],
      "metadata": {
        "id": "DCg6dnoA88g0"
      }
    },
    {
      "cell_type": "code",
      "source": [
        "num=int(input(\"Enter a number : \"))\n",
        "print(\"binary - >\",bin(num))\n",
        "print(\"octal ->\",oct(num))\n",
        "print(\"Hexadecimal- >\",hex(num))"
      ],
      "metadata": {
        "colab": {
          "base_uri": "https://localhost:8080/"
        },
        "id": "oqz8NZYV9DrD",
        "outputId": "c9caad5b-005f-4096-ffce-4ba2b65eae20"
      },
      "execution_count": 34,
      "outputs": [
        {
          "output_type": "stream",
          "name": "stdout",
          "text": [
            "Enter a number : 4\n",
            "binary - > 0b100\n",
            "octal -> 0o4\n",
            "Hexadecimal- > 0x4\n"
          ]
        }
      ]
    },
    {
      "cell_type": "markdown",
      "source": [
        "7. Implement Arithmetic operators with examples."
      ],
      "metadata": {
        "id": "WFFWRdbe9wgE"
      }
    },
    {
      "cell_type": "code",
      "source": [
        "a=int(input(\"Enter a number :\"))\n",
        "b=int(input(\"Enter a number :\"))\n",
        "print(a+b)\n",
        "print(abs(a-b))\n",
        "print(a*b)\n",
        "print(a/b)\n",
        "print(a%b)\n",
        "print(a**b)\n",
        "print(a//b)"
      ],
      "metadata": {
        "colab": {
          "base_uri": "https://localhost:8080/"
        },
        "id": "eNYdjc-F-MFK",
        "outputId": "93c287a2-a42b-48a0-d930-ec8d8bb65df4"
      },
      "execution_count": 33,
      "outputs": [
        {
          "output_type": "stream",
          "name": "stdout",
          "text": [
            "Enter a number :4\n",
            "Enter a number :7\n",
            "11\n",
            "3\n",
            "28\n",
            "0.5714285714285714\n",
            "4\n",
            "16384\n",
            "0\n"
          ]
        }
      ]
    },
    {
      "cell_type": "markdown",
      "source": [
        "8. Implement Assignment operators with examples"
      ],
      "metadata": {
        "id": "ySXgXojk-1pa"
      }
    },
    {
      "cell_type": "code",
      "source": [
        "x=10\n",
        "y=20\n",
        "print(x)\n",
        "x+=3\n",
        "print(x)\n",
        "x-=3\n",
        "print(x)\n",
        "x*=3\n",
        "print(x)\n",
        "x/=3\n",
        "print(x)\n",
        "x%=3\n",
        "print(x)\n",
        "y//=3\n",
        "print(y)\n",
        "y**=3\n",
        "print(y)"
      ],
      "metadata": {
        "colab": {
          "base_uri": "https://localhost:8080/"
        },
        "id": "RSuVqCr7-7PT",
        "outputId": "1c49648e-b0ff-4a48-a973-f6f9970bd22d"
      },
      "execution_count": 32,
      "outputs": [
        {
          "output_type": "stream",
          "name": "stdout",
          "text": [
            "10\n",
            "13\n",
            "10\n",
            "30\n",
            "10.0\n",
            "1.0\n",
            "6\n",
            "216\n"
          ]
        }
      ]
    },
    {
      "cell_type": "markdown",
      "source": [
        "9. Implement Comparison operators with examples"
      ],
      "metadata": {
        "id": "TgDVt5rO_DCq"
      }
    },
    {
      "cell_type": "code",
      "source": [
        "x1=5\n",
        "y1=10\n",
        "print(x1==y1)\n",
        "print(x1!=y1)\n",
        "print(x1>y1)\n",
        "print(x1<y1)\n",
        "print(x1>=y1)\n",
        "print(x1<=y1)"
      ],
      "metadata": {
        "colab": {
          "base_uri": "https://localhost:8080/"
        },
        "id": "NmVcKF-6_IWV",
        "outputId": "93532025-e0f4-4e27-de7e-e4f391ab602b"
      },
      "execution_count": 31,
      "outputs": [
        {
          "output_type": "stream",
          "name": "stdout",
          "text": [
            "False\n",
            "True\n",
            "False\n",
            "True\n",
            "False\n",
            "True\n"
          ]
        }
      ]
    },
    {
      "cell_type": "markdown",
      "source": [
        "10. Implement Logical operators with examples."
      ],
      "metadata": {
        "id": "KstEQCZt_POC"
      }
    },
    {
      "cell_type": "code",
      "source": [
        "a1=5\n",
        "b1=6\n",
        "print(a1==5 and b1==6)\n",
        "print(a1==6 or b1==5)\n",
        "print(not a1==b1)"
      ],
      "metadata": {
        "colab": {
          "base_uri": "https://localhost:8080/"
        },
        "id": "LJbWtpfE_TAK",
        "outputId": "71cef43c-5a82-4a17-db59-395f6ca34ef6"
      },
      "execution_count": 30,
      "outputs": [
        {
          "output_type": "stream",
          "name": "stdout",
          "text": [
            "True\n",
            "False\n",
            "True\n"
          ]
        }
      ]
    },
    {
      "cell_type": "markdown",
      "source": [
        "11. Implement Bitwise operators with examples.\n"
      ],
      "metadata": {
        "id": "t0WlfeJC_oVD"
      }
    },
    {
      "cell_type": "code",
      "source": [
        "c=3\n",
        "d=6\n",
        "print(c==19 & d==25)\n",
        "print(c&d)\n",
        "print(c==25|d==20)\n",
        "print(c&d)\n",
        "print(c^d)\n",
        "print(~c)\n",
        "print(c>>2)\n",
        "print(d<<2)"
      ],
      "metadata": {
        "colab": {
          "base_uri": "https://localhost:8080/"
        },
        "id": "9j1o9bhi_sKK",
        "outputId": "0a867b98-64e7-4e83-9a1b-113b3ae1543a"
      },
      "execution_count": 29,
      "outputs": [
        {
          "output_type": "stream",
          "name": "stdout",
          "text": [
            "False\n",
            "2\n",
            "False\n",
            "2\n",
            "5\n",
            "-4\n",
            "0\n",
            "24\n"
          ]
        }
      ]
    },
    {
      "cell_type": "markdown",
      "source": [
        "12. Implement Membership operators with examples"
      ],
      "metadata": {
        "id": "2nbGgoOXAK7r"
      }
    },
    {
      "cell_type": "code",
      "source": [
        "str1=\"hi python\"\n",
        "print('h' in str1)\n",
        "print('s' in str1)\n",
        "print(\"n\" in str1)\n",
        "print('i' not in str1)\n",
        "print('w' not in str1)\n",
        "print(\"k\" not in str1)"
      ],
      "metadata": {
        "colab": {
          "base_uri": "https://localhost:8080/"
        },
        "id": "whPFW4bBAOzi",
        "outputId": "c20bd3ae-0d47-4507-f36b-7124607b13ab"
      },
      "execution_count": 28,
      "outputs": [
        {
          "output_type": "stream",
          "name": "stdout",
          "text": [
            "True\n",
            "False\n",
            "True\n",
            "False\n",
            "True\n",
            "True\n"
          ]
        }
      ]
    },
    {
      "cell_type": "markdown",
      "source": [
        "13. Implement Identity operators with examples\n"
      ],
      "metadata": {
        "id": "MvpPd9ApAmIL"
      }
    },
    {
      "cell_type": "code",
      "source": [
        "s=5\n",
        "i='10'\n",
        "print(s is i)\n",
        "print(s is not i)"
      ],
      "metadata": {
        "colab": {
          "base_uri": "https://localhost:8080/"
        },
        "id": "dGXGCYGYAqiA",
        "outputId": "3212e380-cd35-4c03-ecf6-962d915843b8"
      },
      "execution_count": 27,
      "outputs": [
        {
          "output_type": "stream",
          "name": "stdout",
          "text": [
            "False\n",
            "True\n"
          ]
        }
      ]
    },
    {
      "cell_type": "markdown",
      "source": [
        "14.Demonstrate Negative indexing for List and apply slicing."
      ],
      "metadata": {
        "id": "8Ua1_kIYCgYP"
      }
    },
    {
      "cell_type": "code",
      "source": [
        "l1=[1,2,3,4,5,6,7,'shaik']\n",
        "# negative indexing\n",
        "print(l1[-1])\n",
        "print(l1[-8])\n",
        "print(l1[-6])\n",
        "#slicing\n",
        "print(l1[1:])\n",
        "print(l1[:])\n",
        "print(l1[::-1])"
      ],
      "metadata": {
        "colab": {
          "base_uri": "https://localhost:8080/"
        },
        "id": "BlzbBicUCi0z",
        "outputId": "c9670a45-a2c4-4bfd-c715-18b48567823b"
      },
      "execution_count": 26,
      "outputs": [
        {
          "output_type": "stream",
          "name": "stdout",
          "text": [
            "shaik\n",
            "1\n",
            "3\n",
            "[2, 3, 4, 5, 6, 7, 'shaik']\n",
            "[1, 2, 3, 4, 5, 6, 7, 'shaik']\n",
            "['shaik', 7, 6, 5, 4, 3, 2, 1]\n"
          ]
        }
      ]
    },
    {
      "cell_type": "markdown",
      "source": [
        "15.Predict the output for the given code snippet and justify the result."
      ],
      "metadata": {
        "id": "nsJeYX6JCyuR"
      }
    },
    {
      "cell_type": "code",
      "source": [
        "print( 'A series of characters designated as one object known as a string'[::-1][4::3] )\n",
        "#[::-1] it is for reversing and [4::3] it starts from 4 th index with step size as 3\n",
        "print(\"------------\")\n",
        "print( 'welcome to Python traing program'[3:10][::-1])\n",
        "#[3:10] it starts from 3rd index and stops at 10 th index and the it will reverse the string"
      ],
      "metadata": {
        "colab": {
          "base_uri": "https://localhost:8080/"
        },
        "id": "JqfZhsRiC_Bk",
        "outputId": "ab78e61c-a2f2-4daf-af26-4c5aa4ed6f45"
      },
      "execution_count": 41,
      "outputs": [
        {
          "output_type": "stream",
          "name": "stdout",
          "text": [
            "taawkcbe  tgestrcoeeA\n",
            "------------\n",
            "ot emoc\n"
          ]
        }
      ]
    },
    {
      "cell_type": "markdown",
      "source": [
        "16)Write a python code to get desired output; Input string : p_phrase = \"was it a car or a cat I saw\"; Output string : WAS I TAC A RO RAC A TI SAW"
      ],
      "metadata": {
        "id": "e8TxxXX3EeFQ"
      }
    },
    {
      "cell_type": "code",
      "source": [
        "p_phrase=\"was it a car or a cat I saw\"\n",
        "str2=p_phrase.upper()\n",
        "print(str2[::-1])"
      ],
      "metadata": {
        "colab": {
          "base_uri": "https://localhost:8080/"
        },
        "id": "JgG3BfnLE735",
        "outputId": "84056642-d868-487d-baf7-87268a903815"
      },
      "execution_count": 42,
      "outputs": [
        {
          "output_type": "stream",
          "name": "stdout",
          "text": [
            "WAS I TAC A RO RAC A TI SAW\n"
          ]
        }
      ]
    },
    {
      "cell_type": "markdown",
      "source": [
        "17). You are required to generate a word similar to ZOO, X and Y that denote the number of Zs and Os respectively. The generated word similar to ZOO where Y= 2 * X. Input X= 2 Output ZZOOOO Input X= 5 Output ZZZZZOOOOOOOOOO"
      ],
      "metadata": {
        "id": "m1QGb4NwFOM5"
      }
    },
    {
      "cell_type": "code",
      "source": [
        "x=int(input(\"Enter a number=\"))\n",
        "y=2*x\n",
        "print('x=',x)\n",
        "print('y=',y)\n",
        "print('Z'*x,'O'*y,sep='')"
      ],
      "metadata": {
        "colab": {
          "base_uri": "https://localhost:8080/"
        },
        "id": "Yra1OgiWFUS1",
        "outputId": "d332d40a-a491-44b9-f8ed-235658f2d85c"
      },
      "execution_count": 43,
      "outputs": [
        {
          "output_type": "stream",
          "name": "stdout",
          "text": [
            "Enter a number=5\n",
            "x= 5\n",
            "y= 10\n",
            "ZZZZZOOOOOOOOOO\n"
          ]
        }
      ]
    }
  ]
}